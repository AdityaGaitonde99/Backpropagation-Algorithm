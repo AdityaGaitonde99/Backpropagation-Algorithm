{
 "cells": [
  {
   "cell_type": "markdown",
   "id": "ce1f63bb",
   "metadata": {},
   "source": [
    "# Aditya Gaitonde HW 2"
   ]
  },
  {
   "cell_type": "code",
   "execution_count": 48,
   "id": "7b29c15d",
   "metadata": {},
   "outputs": [],
   "source": [
    "import matplotlib\n",
    "import numpy as np\n",
    "import matplotlib.pyplot as plt\n",
    "from scipy.special import expit as sigmoid\n",
    "import math\n",
    "from sklearn.metrics import accuracy_score, f1_score\n",
    "import autograd.numpy as np\n",
    "from autograd import grad\n",
    "import torch\n",
    "%matplotlib inline"
   ]
  },
  {
   "cell_type": "code",
   "execution_count": 49,
   "id": "fa104be1",
   "metadata": {},
   "outputs": [
    {
     "data": {
      "text/plain": [
       "<matplotlib.collections.PathCollection at 0x24bd40f0820>"
      ]
     },
     "execution_count": 49,
     "metadata": {},
     "output_type": "execute_result"
    },
    {
     "data": {
      "image/png": "[encoded data removed]",
      "text/plain": [
       "<Figure size 432x288 with 1 Axes>"
      ]
     },
     "metadata": {
      "needs_background": "light"
     },
     "output_type": "display_data"
    }
   ],
   "source": [
    "np.random.seed(0)\n",
    "def make_dataset(num_points):\n",
    "    radius = 5\n",
    "    data = []\n",
    "    labels = []\n",
    "    # Generate positive examples (labeled l).\n",
    "    for i in range(num_points//2):\n",
    "        r = np.random.uniform(0, radius*0.58)\n",
    "        angle = np.random.uniform(0, 2*math.pi)\n",
    "        x = r * math.sin(angle)\n",
    "        y = r * math.cos(angle)\n",
    "        data.append([x, y])\n",
    "        labels.append(1)\n",
    "    #GEenrate negative examples (labeled 0).\n",
    "    for i in range(num_points//2):\n",
    "        r = np.random.uniform(radius*0.62, radius)\n",
    "        angle = np.random.uniform(0, 2*math.pi)\n",
    "        x = r * math.sin(angle)\n",
    "        y = r * math.cos(angle)\n",
    "        data.append([x, y])\n",
    "        labels.append(0)\n",
    "        \n",
    "    data = np.asarray(data)\n",
    "    labels = np.asarray(labels)\n",
    "    return data, labels\n",
    "\n",
    "num_data = 500\n",
    "data, labels = make_dataset(num_data)\n",
    "\n",
    "# Note: red indicates a label of 1, blue indicates a lebel of 0\n",
    "plt.scatter(data[:num_data//2, 0], data[:num_data//2, 1], color='red')\n",
    "plt.scatter(data[num_data//2:, 0], data[num_data//2:, 1], color='blue')\n"
   ]
  },
  {
   "cell_type": "markdown",
   "id": "5e179a1b",
   "metadata": {},
   "source": [
    "## Model Descripton \n",
    "\n",
    "We will be using a 2 layer neural network for this problem. An input instance $\\mathbf{x}$ go through the following transformation to output value $\\mathbf{\\hat{y}}$. Use cross-entropy loss over all the training examples.\n",
    "\n",
    "$\\mathbf{z_1} = \\mathbf{W_1 x} + \\mathbf{b_1}$\n",
    "\n",
    "$\\mathbf{h_1} = tanh(\\mathbf{z_1})$\n",
    "\n",
    "$\\mathbf{z_2} = \\mathbf{W_2 h_1} + \\mathbf{b_2}$\n",
    "\n",
    "$\\mathbf{\\hat{y}} = sigmoid(\\mathbf{z_2})$\n"
   ]
  },
  {
   "cell_type": "markdown",
   "id": "3c5c9874",
   "metadata": {},
   "source": [
    "# First, initialize our neural network parameters. Params will be passed as an argument of backprop code\n"
   ]
  },
  {
   "cell_type": "code",
   "execution_count": 50,
   "id": "1458527e",
   "metadata": {},
   "outputs": [],
   "source": [
    "params = {}\n",
    "input_size = 2\n",
    "hidden_size = 10\n",
    "output_size = 1\n",
    "np.random.seed(0)\n",
    "W1 = np.random.randn(hidden_size, input_size) * 0.01\n",
    "b1 = np.zeros((hidden_size, 1))\n",
    "W2 = np.random.randn(output_size, hidden_size) * 0.01\n",
    "b2 = np.zeros((output_size, 1))\n",
    "params = {'W1': W1, 'b1': b1, 'W2': W2, 'b2': b2}"
   ]
  },
  {
   "cell_type": "markdown",
   "id": "2e8fc160",
   "metadata": {},
   "source": [
    "# Prediction Function"
   ]
  },
  {
   "cell_type": "code",
   "execution_count": 51,
   "id": "e373e870",
   "metadata": {},
   "outputs": [],
   "source": [
    "def predict(X, params):\n",
    "    Z1 = np.dot(params['W1'], X.T) + params['b1']\n",
    "    A1 = np.tanh(Z1)\n",
    "    Z2 = np.dot(params['W2'], A1) + params['b2']\n",
    "    y_pred = sigmoid(Z2)\n",
    "    return y_pred.reshape(-1)\n",
    "\n",
    "y_pred = predict(data, params)\n",
    "y_pred_binary = (y_pred > 0.5).astype(int)\n"
   ]
  },
  {
   "cell_type": "markdown",
   "id": "e4507368",
   "metadata": {},
   "source": [
    "# Implement backpropagation by vector-Jacobinan product of each step."
   ]
  },
  {
   "cell_type": "code",
   "execution_count": 52,
   "id": "d0ce2719",
   "metadata": {},
   "outputs": [],
   "source": [
    "def backprop_manual(X, y, params):\n",
    "    N = X.shape[0]\n",
    "    z1 = np.dot(W1, X.T) + b1\n",
    "    a1 = np.tanh(z1)\n",
    "    z2 = np.dot(W2, a1) + b2\n",
    "    y_hat = 1 / (1 + np.exp(-z2))\n",
    "    loss = (1. /N) * np.sum(-y * np.log(y_hat) - (1 - y) * np.log(1 - y_hat))\n",
    "    dL_dy_hat = y_hat - y.T\n",
    "    dz2 = dL_dy_hat * y_hat * (1 - y_hat)    \n",
    "    dW2 = (1. / N) * np.dot(dz2, a1.T)\n",
    "    db2 = (1. / N) * np.sum(dz2, axis=1, keepdims=True)\n",
    "    da1 = np.dot(W2.T, dz2)\n",
    "    dz1 = da1 * (1 - np.tanh(z1)**2)\n",
    "    dW1 = (1. / N) * np.dot(dz1, X)\n",
    "    db1 = (1. / N) * np.sum(dz1, axis=1, keepdims=True)\n",
    "    grads = {\n",
    "        'W1' :dW1, 'W2':dW2, 'b1':db1, 'b2':db2\n",
    "    }\n",
    "    return grads, loss"
   ]
  },
  {
   "cell_type": "markdown",
   "id": "cab868e6",
   "metadata": {},
   "source": [
    "# Print Loss"
   ]
  },
  {
   "cell_type": "code",
   "execution_count": 53,
   "id": "ae1e80b5",
   "metadata": {},
   "outputs": [
    {
     "name": "stdout",
     "output_type": "stream",
     "text": [
      "Step   0 | Loss 0.69\n",
      "Step  50 | Loss 0.69\n",
      "Step 100 | Loss 0.69\n",
      "Step 150 | Loss 0.69\n",
      "Step 200 | Loss 0.69\n",
      "Step 250 | Loss 0.69\n",
      "Step 300 | Loss 0.69\n",
      "Step 350 | Loss 0.69\n",
      "Step 400 | Loss 0.69\n",
      "Step 450 | Loss 0.67\n",
      "Step 500 | Loss 0.64\n",
      "Step 550 | Loss 0.58\n",
      "Step 600 | Loss 0.53\n",
      "Step 650 | Loss 0.50\n",
      "Step 700 | Loss 0.49\n",
      "Step 750 | Loss 0.48\n",
      "Step 800 | Loss 0.47\n",
      "Step 850 | Loss 0.47\n",
      "Step 900 | Loss 0.47\n",
      "Step 950 | Loss 0.46\n"
     ]
    }
   ],
   "source": [
    "num_steps = 1000\n",
    "alpha = 1\n",
    "losses = []\n",
    "for step in range(num_steps):        \n",
    "    grads, loss = backprop_manual(data, labels, params)\n",
    "    for k in params:\n",
    "        params[k] -= alpha * grads[k]\n",
    "    losses.append(loss)\n",
    "    if step % 50 == 0:\n",
    "        print(\"Step {:3d} | Loss {:3.2f}\".format(step, loss))"
   ]
  },
  {
   "cell_type": "markdown",
   "id": "6a28b398",
   "metadata": {},
   "source": [
    "# Accuracy and F1 Score"
   ]
  },
  {
   "cell_type": "code",
   "execution_count": 55,
   "id": "905e26c3",
   "metadata": {},
   "outputs": [
    {
     "name": "stdout",
     "output_type": "stream",
     "text": [
      "Accuracy: 79.20%\n",
      "F1 Score: 80.30%\n"
     ]
    }
   ],
   "source": [
    "y_pred = (predict(data, params) > 0.5).astype(int)\n",
    "accuracy = accuracy_score(labels, y_pred)\n",
    "f1 = f1_score(labels, y_pred)\n",
    "print(\"Accuracy: {:.2f}%\".format(accuracy * 100))\n",
    "print(\"F1 Score: {:.2f}%\".format(f1 * 100))"
   ]
  },
  {
   "cell_type": "markdown",
   "id": "8e3511c0",
   "metadata": {},
   "source": [
    "# Plot of Loss vs Steps"
   ]
  },
  {
   "cell_type": "code",
   "execution_count": 56,
   "id": "e28d54e5",
   "metadata": {},
   "outputs": [
    {
     "data": {
      "image/png": "[encoded data removed]",
      "text/plain": [
       "<Figure size 432x288 with 1 Axes>"
      ]
     },
     "metadata": {
      "needs_background": "light"
     },
     "output_type": "display_data"
    }
   ],
   "source": [
    "plt.plot(range(num_steps), losses)\n",
    "plt.xlabel('Training Steps')\n",
    "plt.ylabel('Loss')\n",
    "plt.title('Loss vs Training Steps')\n",
    "plt.show()"
   ]
  },
  {
   "cell_type": "code",
   "execution_count": 57,
   "id": "1a71f83f",
   "metadata": {},
   "outputs": [],
   "source": [
    "params = {}\n",
    "input_size = 2\n",
    "hidden_size = 10\n",
    "output_size = 1\n",
    "np.random.seed(0)\n",
    "W1 = np.random.randn(hidden_size, input_size) * 0.01\n",
    "b1 = np.zeros((hidden_size, 1))\n",
    "W2 = np.random.randn(output_size, hidden_size) * 0.01\n",
    "b2 = np.zeros((output_size, 1))\n",
    "params = {'W1': W1, 'b1': b1, 'W2': W2, 'b2': b2}"
   ]
  },
  {
   "cell_type": "markdown",
   "id": "3b365110",
   "metadata": {},
   "source": [
    "# Implement backpropagation by using autograd library "
   ]
  },
  {
   "cell_type": "code",
   "execution_count": 58,
   "id": "2c5ad3c1",
   "metadata": {},
   "outputs": [],
   "source": [
    "def sigmoid(x):\n",
    "    return 1. / (1 + np.exp(-x))\n",
    "def forward(X, params):\n",
    "    W1 = params['W1']\n",
    "    b1 = params['b1']\n",
    "    W2 = params['W2']\n",
    "    b2 = params['b2']\n",
    "    z1 = np.dot(W1, X.T) + b1\n",
    "    a1 = np.tanh(z1)\n",
    "    z2 = np.dot(W2, a1) + b2\n",
    "    y_hat = sigmoid(z2)\n",
    "    return y_hat\n",
    "def loss_function(params, X, y):\n",
    "    y_hat = forward(X, params)\n",
    "    N = X.shape[0]\n",
    "    loss = (1./N) * np.sum(-y * np.log(y_hat) - (1 - y) * np.log(1 - y_hat))\n",
    "    return loss\n",
    "def backprop_autograd(X, y, params):\n",
    "    N = X.shape[0]\n",
    "    loss = loss_function(params, X, y)\n",
    "    gradients = grad(loss_function)(params, X, y)\n",
    "    grads = {'W1': gradients['W1'], 'b1': gradients['b1'], 'W2': gradients['W2'], 'b2': gradients['b2']}\n",
    "    return grads, loss"
   ]
  },
  {
   "cell_type": "markdown",
   "id": "226dd770",
   "metadata": {},
   "source": [
    "# Print loss"
   ]
  },
  {
   "cell_type": "code",
   "execution_count": 59,
   "id": "edb867a6",
   "metadata": {},
   "outputs": [
    {
     "name": "stdout",
     "output_type": "stream",
     "text": [
      "Step   0 | Loss 0.69\n",
      "Step  50 | Loss 0.69\n",
      "Step 100 | Loss 0.69\n",
      "Step 150 | Loss 0.53\n",
      "Step 200 | Loss 0.46\n",
      "Step 250 | Loss 0.22\n",
      "Step 300 | Loss 0.15\n",
      "Step 350 | Loss 0.12\n",
      "Step 400 | Loss 0.10\n",
      "Step 450 | Loss 0.09\n",
      "Step 500 | Loss 0.08\n",
      "Step 550 | Loss 0.07\n",
      "Step 600 | Loss 0.06\n",
      "Step 650 | Loss 0.06\n",
      "Step 700 | Loss 0.05\n",
      "Step 750 | Loss 0.05\n",
      "Step 800 | Loss 0.05\n",
      "Step 850 | Loss 0.05\n",
      "Step 900 | Loss 0.04\n",
      "Step 950 | Loss 0.04\n"
     ]
    }
   ],
   "source": [
    "num_steps = 1000\n",
    "alpha = 1\n",
    "losses = []\n",
    "for step in range(num_steps):        \n",
    "    grads, loss = backprop_autograd(data, labels, params)\n",
    "    for k in params:\n",
    "        params[k] -= alpha * grads[k]\n",
    "    losses.append(loss)\n",
    "    if step % 50 == 0:\n",
    "        print(\"Step {:3d} | Loss {:3.2f}\".format(step, loss))"
   ]
  },
  {
   "cell_type": "markdown",
   "id": "dfe62677",
   "metadata": {},
   "source": [
    "# Accuracy and F1 Score"
   ]
  },
  {
   "cell_type": "code",
   "execution_count": 60,
   "id": "6e82a2db",
   "metadata": {},
   "outputs": [
    {
     "name": "stdout",
     "output_type": "stream",
     "text": [
      "Accuracy: 99.60%\n",
      "F1 Score: 80.30%\n"
     ]
    }
   ],
   "source": [
    "y_pred = (predict(data, params) > 0.5).astype(int)\n",
    "accuracy = np.mean(y_pred == labels)\n",
    "print(\"Accuracy: {:.2f}%\".format(accuracy * 100))\n",
    "print(\"F1 Score: {:.2f}%\".format(f1 * 100))"
   ]
  },
  {
   "cell_type": "markdown",
   "id": "68c4fa12",
   "metadata": {},
   "source": [
    "# Plots of Loss vs Steps"
   ]
  },
  {
   "cell_type": "code",
   "execution_count": 61,
   "id": "f39ea607",
   "metadata": {},
   "outputs": [
    {
     "data": {
      "image/png": "[encoded data removed]",
      "text/plain": [
       "<Figure size 432x288 with 1 Axes>"
      ]
     },
     "metadata": {
      "needs_background": "light"
     },
     "output_type": "display_data"
    }
   ],
   "source": [
    "plt.plot(range(num_steps), losses)\n",
    "plt.xlabel('Training Steps')\n",
    "plt.ylabel('Loss')\n",
    "plt.title('Loss vs Training Steps')\n",
    "plt.show()"
   ]
  },
  {
   "cell_type": "code",
   "execution_count": 62,
   "id": "11258ee5",
   "metadata": {},
   "outputs": [],
   "source": [
    "params = {}\n",
    "input_size = 2\n",
    "hidden_size = 10\n",
    "output_size = 1\n",
    "np.random.seed(0)\n",
    "W1 = np.random.randn(hidden_size, input_size) * 0.01\n",
    "b1 = np.zeros((hidden_size, 1))\n",
    "W2 = np.random.randn(output_size, hidden_size) * 0.01\n",
    "b2 = np.zeros((output_size, 1))\n",
    "params = {'W1': W1, 'b1': b1, 'W2': W2, 'b2': b2}"
   ]
  },
  {
   "cell_type": "markdown",
   "id": "8c72e049",
   "metadata": {},
   "source": [
    "# Implement backpropagation by using pytorch library "
   ]
  },
  {
   "cell_type": "code",
   "execution_count": 35,
   "id": "d3bc5720",
   "metadata": {},
   "outputs": [],
   "source": [
    "def backprop_pytorch(X, y, params):\n",
    "    X = torch.from_numpy(X)\n",
    "    y = torch.from_numpy(y)\n",
    "    W1 = torch.tensor(params['W1'], requires_grad=True)\n",
    "    b1 = torch.tensor(params['b1'], requires_grad=True)\n",
    "    W2 = torch.tensor(params['W2'], requires_grad=True)\n",
    "    b2 = torch.tensor(params['b2'], requires_grad=True)\n",
    "    z1 = torch.matmul(W1, X.T) + b1\n",
    "    a1 = torch.tanh(z1)\n",
    "    z2 = torch.matmul(W2, a1) + b2\n",
    "    y_hat = torch.sigmoid(z2)\n",
    "    loss_fn = torch.nn.BCELoss()\n",
    "    loss = loss_fn(y_hat[0].float(), y.float())\n",
    "    loss.backward()\n",
    "    grads = {'W1': W1.grad.numpy(), 'b1': b1.grad.numpy(),\n",
    "             'W2': W2.grad.numpy(), 'b2': b2.grad.numpy()}\n",
    "    return grads, loss.item()"
   ]
  },
  {
   "cell_type": "markdown",
   "id": "da6bd063",
   "metadata": {},
   "source": [
    "# Print Loss at each step"
   ]
  },
  {
   "cell_type": "code",
   "execution_count": 63,
   "id": "fd71f96c",
   "metadata": {},
   "outputs": [
    {
     "name": "stdout",
     "output_type": "stream",
     "text": [
      "Step   0 | Loss 0.69\n",
      "Step  50 | Loss 0.69\n",
      "Step 100 | Loss 0.69\n",
      "Step 150 | Loss 0.53\n",
      "Step 200 | Loss 0.46\n",
      "Step 250 | Loss 0.22\n",
      "Step 300 | Loss 0.15\n",
      "Step 350 | Loss 0.12\n",
      "Step 400 | Loss 0.10\n",
      "Step 450 | Loss 0.09\n",
      "Step 500 | Loss 0.08\n",
      "Step 550 | Loss 0.07\n",
      "Step 600 | Loss 0.06\n",
      "Step 650 | Loss 0.06\n",
      "Step 700 | Loss 0.05\n",
      "Step 750 | Loss 0.05\n",
      "Step 800 | Loss 0.05\n",
      "Step 850 | Loss 0.05\n",
      "Step 900 | Loss 0.04\n",
      "Step 950 | Loss 0.04\n"
     ]
    }
   ],
   "source": [
    "num_steps = 1000\n",
    "alpha = 1\n",
    "losses = []\n",
    "for step in range(num_steps):        \n",
    "    grads, loss = backprop_pytorch(data, labels, params)\n",
    "    for k in params:\n",
    "        params[k] -= alpha * grads[k]\n",
    "    losses.append(loss)\n",
    "    if step % 50 == 0:\n",
    "        print(\"Step {:3d} | Loss {:3.2f}\".format(step, loss))"
   ]
  },
  {
   "cell_type": "markdown",
   "id": "93a3024a",
   "metadata": {},
   "source": [
    "# Accuracy and F1 Score"
   ]
  },
  {
   "cell_type": "code",
   "execution_count": 64,
   "id": "588a88d3",
   "metadata": {},
   "outputs": [
    {
     "name": "stdout",
     "output_type": "stream",
     "text": [
      "Accuracy: 99.60%\n",
      "F1 Score: 80.30%\n"
     ]
    }
   ],
   "source": [
    "y_pred = (predict(data, params) > 0.5).astype(int)\n",
    "accuracy = np.mean(y_pred == labels)\n",
    "print(\"Accuracy: {:.2f}%\".format(accuracy * 100))\n",
    "print(\"F1 Score: {:.2f}%\".format(f1 * 100))"
   ]
  },
  {
   "cell_type": "markdown",
   "id": "f5562508",
   "metadata": {},
   "source": [
    "# Plot of Loss vs Step"
   ]
  },
  {
   "cell_type": "code",
   "execution_count": 70,
   "id": "05b64322",
   "metadata": {},
   "outputs": [
    {
     "data": {
      "image/png": "[encoded data removed]",
      "text/plain": [
       "<Figure size 432x288 with 1 Axes>"
      ]
     },
     "metadata": {
      "needs_background": "light"
     },
     "output_type": "display_data"
    }
   ],
   "source": [
    "plt.plot(range(num_steps), losses)\n",
    "plt.xlabel('Training Steps')\n",
    "plt.ylabel('Loss')\n",
    "plt.title('Loss vs Training Steps')\n",
    "plt.show()"
   ]
  }
 ],
 "metadata": {
  "kernelspec": {
   "display_name": "Python 3",
   "language": "python",
   "name": "python3"
  },
  "language_info": {
   "codemirror_mode": {
    "name": "ipython",
    "version": 3
   },
   "file_extension": ".py",
   "mimetype": "text/x-python",
   "name": "python",
   "nbconvert_exporter": "python",
   "pygments_lexer": "ipython3",
   "version": "3.8.10"
  },
  "vscode": {
   "interpreter": {
    "hash": "c261aea317cc0286b3b3261fbba9abdec21eaa57589985bb7a274bf54d6cc0a7"
   }
  }
 },
 "nbformat": 4,
 "nbformat_minor": 5
}
